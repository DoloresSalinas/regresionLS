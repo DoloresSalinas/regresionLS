{
 "cells": [
  {
   "cell_type": "code",
   "execution_count": 6,
   "id": "301177ee-63c4-4a26-9548-ba7150c376a1",
   "metadata": {},
   "outputs": [
    {
     "name": "stdout",
     "output_type": "stream",
     "text": [
      "Todas las librerías cargadas.\n"
     ]
    }
   ],
   "source": [
    "# ==============================\n",
    "# Primera celda - Importaciones\n",
    "# ==============================\n",
    "import pandas as pd\n",
    "import numpy as np\n",
    "import matplotlib.pyplot as plt\n",
    "import seaborn as sns\n",
    "from sklearn.model_selection import train_test_split, GridSearchCV\n",
    "from sklearn.linear_model import Ridge\n",
    "from sklearn.metrics import mean_squared_error, r2_score\n",
    "import joblib\n",
    "\n",
    "sns.set(style='whitegrid')\n",
    "print(\"Todas las librerías cargadas.\")\n"
   ]
  },
  {
   "cell_type": "code",
   "execution_count": 8,
   "id": "b35bd7c3-8d50-48cc-b783-b8338f41c62c",
   "metadata": {},
   "outputs": [
    {
     "data": {
      "text/html": [
       "<div>\n",
       "<style scoped>\n",
       "    .dataframe tbody tr th:only-of-type {\n",
       "        vertical-align: middle;\n",
       "    }\n",
       "\n",
       "    .dataframe tbody tr th {\n",
       "        vertical-align: top;\n",
       "    }\n",
       "\n",
       "    .dataframe thead th {\n",
       "        text-align: right;\n",
       "    }\n",
       "</style>\n",
       "<table border=\"1\" class=\"dataframe\">\n",
       "  <thead>\n",
       "    <tr style=\"text-align: right;\">\n",
       "      <th></th>\n",
       "      <th>Unnamed: 0</th>\n",
       "      <th>equipos</th>\n",
       "      <th>bateos</th>\n",
       "      <th>runs</th>\n",
       "    </tr>\n",
       "  </thead>\n",
       "  <tbody>\n",
       "    <tr>\n",
       "      <th>0</th>\n",
       "      <td>0</td>\n",
       "      <td>Texas</td>\n",
       "      <td>5659</td>\n",
       "      <td>855</td>\n",
       "    </tr>\n",
       "    <tr>\n",
       "      <th>1</th>\n",
       "      <td>1</td>\n",
       "      <td>Boston</td>\n",
       "      <td>5710</td>\n",
       "      <td>875</td>\n",
       "    </tr>\n",
       "    <tr>\n",
       "      <th>2</th>\n",
       "      <td>2</td>\n",
       "      <td>Detroit</td>\n",
       "      <td>5563</td>\n",
       "      <td>787</td>\n",
       "    </tr>\n",
       "    <tr>\n",
       "      <th>3</th>\n",
       "      <td>3</td>\n",
       "      <td>Kansas</td>\n",
       "      <td>5672</td>\n",
       "      <td>730</td>\n",
       "    </tr>\n",
       "    <tr>\n",
       "      <th>4</th>\n",
       "      <td>4</td>\n",
       "      <td>St.</td>\n",
       "      <td>5532</td>\n",
       "      <td>762</td>\n",
       "    </tr>\n",
       "  </tbody>\n",
       "</table>\n",
       "</div>"
      ],
      "text/plain": [
       "   Unnamed: 0  equipos  bateos  runs\n",
       "0           0    Texas    5659   855\n",
       "1           1   Boston    5710   875\n",
       "2           2  Detroit    5563   787\n",
       "3           3   Kansas    5672   730\n",
       "4           4      St.    5532   762"
      ]
     },
     "execution_count": 8,
     "metadata": {},
     "output_type": "execute_result"
    }
   ],
   "source": [
    "# ==============================\n",
    "# Segunda celda - Carga de datos\n",
    "# ==============================\n",
    "datos = pd.read_csv(\"C:/RespaldoDB/beisbol.csv\")\n",
    "datos.head()\n"
   ]
  },
  {
   "cell_type": "code",
   "execution_count": 14,
   "id": "4be33ce0-7057-4a91-8597-f3502b2576c8",
   "metadata": {},
   "outputs": [
    {
     "data": {
      "text/plain": [
       "'\\nLa Regresión Ridge es una extensión de la regresión lineal que incorpora una penalización (L2) sobre los coeficientes del modelo.\\nEsto se justifica porque:\\n1. Prevención del sobreajuste: en modelos con variables correlacionadas (multicolinealidad), la regresión lineal simple puede producir coeficientes inestables. Ridge reduce este problema.\\n\\n2. Mejor generalización: el término de regularización mejora el desempeño en datos no vistos (test).\\n\\n3. Escenario del dataset: aunque el dataset no es muy grande, el objetivo es predecir runs en función de los bateos (y posibles variables adicionales). Ridge es ideal para capturar la relación sin que los coeficientes crezcan demasiado.\\n'"
      ]
     },
     "execution_count": 14,
     "metadata": {},
     "output_type": "execute_result"
    }
   ],
   "source": [
    "# ==============================\n",
    "# Justificación del algoritmo\n",
    "# ==============================\n",
    "\"\"\"\n",
    "La Regresión Ridge es una extensión de la regresión lineal que incorpora una penalización (L2) sobre los coeficientes del modelo.\n",
    "Esto se justifica porque:\n",
    "1. Prevención del sobreajuste: en modelos con variables correlacionadas (multicolinealidad), la regresión lineal simple puede producir coeficientes inestables. Ridge reduce este problema.\n",
    "\n",
    "2. Mejor generalización: el término de regularización mejora el desempeño en datos no vistos (test).\n",
    "\n",
    "3. Escenario del dataset: aunque el dataset no es muy grande, el objetivo es predecir runs en función de los bateos (y posibles variables adicionales). Ridge es ideal para capturar la relación sin que los coeficientes crezcan demasiado.\n",
    "\"\"\"\n"
   ]
  },
  {
   "cell_type": "code",
   "execution_count": 10,
   "id": "40f4fb62-3204-4acc-a567-67792254ba6e",
   "metadata": {},
   "outputs": [
    {
     "name": "stdout",
     "output_type": "stream",
     "text": [
      "Tamaño entrenamiento: 24, prueba: 6\n"
     ]
    }
   ],
   "source": [
    "# ==============================\n",
    "# Preparar datos\n",
    "# ==============================\n",
    "# Variables predictoras y variable objetivo\n",
    "X = datos[['bateos']]   # predictor\n",
    "y = datos['runs']       # target\n",
    "\n",
    "# Dividir en entrenamiento y prueba\n",
    "X_train, X_test, y_train, y_test = train_test_split(\n",
    "    X, y, test_size=0.2, random_state=42\n",
    ")\n",
    "\n",
    "print(f\"Tamaño entrenamiento: {X_train.shape[0]}, prueba: {X_test.shape[0]}\")\n",
    "\n",
    "\n"
   ]
  },
  {
   "cell_type": "code",
   "execution_count": 11,
   "id": "59ee0544-5786-4df9-a117-b85e0657240e",
   "metadata": {},
   "outputs": [
    {
     "name": "stdout",
     "output_type": "stream",
     "text": [
      "Mejor alpha encontrado: {'alpha': np.float64(1000.0)}\n"
     ]
    }
   ],
   "source": [
    "# Definir el modelo\n",
    "ridge = Ridge()\n",
    "\n",
    "# Definir la grilla de hiperparámetros (alpha es el más importante)\n",
    "param_grid = {\n",
    "    'alpha': np.logspace(-3, 3, 50)  # valores desde 0.001 hasta 1000\n",
    "}\n",
    "\n",
    "# Optimización con validación cruzada\n",
    "grid = GridSearchCV(ridge, param_grid, cv=5, scoring='r2')\n",
    "grid.fit(X_train, y_train)\n",
    "\n",
    "# Mejor modelo\n",
    "best_ridge = grid.best_estimator_\n",
    "print(\"Mejor alpha encontrado:\", grid.best_params_)\n",
    "\n",
    "\"\"\"\n",
    "- Variable dependiente (y): runs → representa las carreras logradas.\n",
    "\n",
    "- Variables independientes (X): bateos (y potencialmente otras como hits, home runs, etc., si existieran).\n",
    "\n",
    "- Algoritmo seleccionado: Ridge (penalización L2).\n",
    "\n",
    "- División del dataset: train_test_split (ej. 80% entrenamiento, 20% prueba).\n",
    "\n",
    "- Evaluación inicial: se mide con MSE y R².\n",
    "\n",
    "- Optimización: ajuste del hiperparámetro alpha (controla el grado de regularización).\n",
    "\n",
    "\"\"\""
   ]
  },
  {
   "cell_type": "code",
   "execution_count": 12,
   "id": "fde5c0ad-6745-4834-b152-9f877827fa1c",
   "metadata": {},
   "outputs": [
    {
     "name": "stdout",
     "output_type": "stream",
     "text": [
      "MSE: 5210.88\n",
      "R2: -0.51\n"
     ]
    }
   ],
   "source": [
    "# ==============================\n",
    "# Evaluación\n",
    "# ==============================\n",
    "# Predicciones\n",
    "y_pred = best_ridge.predict(X_test)\n",
    "\n",
    "# Métricas\n",
    "mse = mean_squared_error(y_test, y_pred)\n",
    "r2 = r2_score(y_test, y_pred)\n",
    "\n",
    "print(f\"MSE: {mse:.2f}\")\n",
    "print(f\"R2: {r2:.2f}\")\n",
    "\n",
    "\"\"\"\n",
    "1. Entrenamiento inicial con un valor base de alpha=1.\n",
    "\n",
    "2. Evaluación:\n",
    "\n",
    "    - MSE (Error cuadrático medio) → mide el error absoluto.\n",
    "\n",
    "    - R² (Coeficiente de determinación) → qué tanto explica el modelo la varianza de los datos.\n",
    "\n",
    "3. Optimización mediante GridSearchCV o validación cruzada:\n",
    "\n",
    "    - Se prueban distintos valores de alpha en un rango (0.01, 0.1, 1, 10, 100).\n",
    "\n",
    "    - Se selecciona el que maximice R² en validación o minimice MSE.\n",
    "\"\"\""
   ]
  },
  {
   "cell_type": "code",
   "execution_count": 13,
   "id": "9bd96256-4715-41a6-944d-02feb2d5c228",
   "metadata": {},
   "outputs": [
    {
     "data": {
      "image/png": "[encoded data removed]",
      "text/plain": [
       "<Figure size 800x500 with 1 Axes>"
      ]
     },
     "metadata": {},
     "output_type": "display_data"
    }
   ],
   "source": [
    "# ==============================\n",
    "# Visualización\n",
    "# ==============================\n",
    "plt.figure(figsize=(8,5))\n",
    "sns.scatterplot(x=X_test['bateos'], y=y_test, label=\"Datos reales\")\n",
    "sns.lineplot(x=X_test['bateos'], y=y_pred, color=\"red\", label=\"Ridge Predicción\")\n",
    "plt.title(\"Regresión Ridge - runs vs bateos\")\n",
    "plt.xlabel(\"Bateos\")\n",
    "plt.ylabel(\"Runs\")\n",
    "plt.legend()\n",
    "plt.show()\n",
    "\n"
   ]
  },
  {
   "cell_type": "code",
   "execution_count": 9,
   "id": "12612a99-0a7f-4fa4-8d83-a0866f235cc4",
   "metadata": {},
   "outputs": [
    {
     "name": "stdout",
     "output_type": "stream",
     "text": [
      "Modelo guardado como modelo_regresion_beisbol.pkl\n"
     ]
    }
   ],
   "source": [
    "# ==============================\n",
    "# Guardar modelo\n",
    "# ==============================\n",
    "joblib.dump(modelo, \"modelo_regresion_beisbol.pkl\")\n",
    "print(\"Modelo guardado como modelo_regresion_beisbol.pkl\")\n"
   ]
  },
  {
   "cell_type": "code",
   "execution_count": null,
   "id": "8a1d8d66-c49a-4280-93e0-de06469732ff",
   "metadata": {},
   "outputs": [],
   "source": []
  }
 ],
 "metadata": {
  "kernelspec": {
   "display_name": "Python 3",
   "language": "python",
   "name": "python3"
  },
  "language_info": {
   "codemirror_mode": {
    "name": "ipython",
    "version": 3
   },
   "file_extension": ".py",
   "mimetype": "text/x-python",
   "name": "python",
   "nbconvert_exporter": "python",
   "pygments_lexer": "ipython3",
   "version": "3.12.9"
  }
 },
 "nbformat": 4,
 "nbformat_minor": 5
}
