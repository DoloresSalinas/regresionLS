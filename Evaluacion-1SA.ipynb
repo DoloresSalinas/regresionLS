{
 "cells": [
  {
   "cell_type": "code",
   "execution_count": 1,
   "id": "301177ee-63c4-4a26-9548-ba7150c376a1",
   "metadata": {},
   "outputs": [
    {
     "name": "stdout",
     "output_type": "stream",
     "text": [
      "Todas las librerías cargadas.\n"
     ]
    }
   ],
   "source": [
    "# ==============================\n",
    "# Primera celda - Importaciones\n",
    "# ==============================\n",
    "import pandas as pd\n",
    "import numpy as np\n",
    "import matplotlib.pyplot as plt\n",
    "import seaborn as sns\n",
    "from sklearn.model_selection import train_test_split\n",
    "from sklearn.linear_model import LinearRegression\n",
    "from sklearn.metrics import mean_squared_error, r2_score\n",
    "import joblib\n",
    "\n",
    "sns.set(style='whitegrid')\n",
    "print(\"Todas las librerías cargadas.\")\n"
   ]
  },
  {
   "cell_type": "code",
   "execution_count": 2,
   "id": "b35bd7c3-8d50-48cc-b783-b8338f41c62c",
   "metadata": {},
   "outputs": [
    {
     "data": {
      "text/html": [
       "<div>\n",
       "<style scoped>\n",
       "    .dataframe tbody tr th:only-of-type {\n",
       "        vertical-align: middle;\n",
       "    }\n",
       "\n",
       "    .dataframe tbody tr th {\n",
       "        vertical-align: top;\n",
       "    }\n",
       "\n",
       "    .dataframe thead th {\n",
       "        text-align: right;\n",
       "    }\n",
       "</style>\n",
       "<table border=\"1\" class=\"dataframe\">\n",
       "  <thead>\n",
       "    <tr style=\"text-align: right;\">\n",
       "      <th></th>\n",
       "      <th>Unnamed: 0</th>\n",
       "      <th>equipos</th>\n",
       "      <th>bateos</th>\n",
       "      <th>runs</th>\n",
       "    </tr>\n",
       "  </thead>\n",
       "  <tbody>\n",
       "    <tr>\n",
       "      <th>0</th>\n",
       "      <td>0</td>\n",
       "      <td>Texas</td>\n",
       "      <td>5659</td>\n",
       "      <td>855</td>\n",
       "    </tr>\n",
       "    <tr>\n",
       "      <th>1</th>\n",
       "      <td>1</td>\n",
       "      <td>Boston</td>\n",
       "      <td>5710</td>\n",
       "      <td>875</td>\n",
       "    </tr>\n",
       "    <tr>\n",
       "      <th>2</th>\n",
       "      <td>2</td>\n",
       "      <td>Detroit</td>\n",
       "      <td>5563</td>\n",
       "      <td>787</td>\n",
       "    </tr>\n",
       "    <tr>\n",
       "      <th>3</th>\n",
       "      <td>3</td>\n",
       "      <td>Kansas</td>\n",
       "      <td>5672</td>\n",
       "      <td>730</td>\n",
       "    </tr>\n",
       "    <tr>\n",
       "      <th>4</th>\n",
       "      <td>4</td>\n",
       "      <td>St.</td>\n",
       "      <td>5532</td>\n",
       "      <td>762</td>\n",
       "    </tr>\n",
       "  </tbody>\n",
       "</table>\n",
       "</div>"
      ],
      "text/plain": [
       "   Unnamed: 0  equipos  bateos  runs\n",
       "0           0    Texas    5659   855\n",
       "1           1   Boston    5710   875\n",
       "2           2  Detroit    5563   787\n",
       "3           3   Kansas    5672   730\n",
       "4           4      St.    5532   762"
      ]
     },
     "execution_count": 2,
     "metadata": {},
     "output_type": "execute_result"
    }
   ],
   "source": [
    "# ==============================\n",
    "# Segunda celda - Carga de datos\n",
    "# ==============================\n",
    "datos = pd.read_csv(\"C:/RespaldoDB/beisbol.csv\")\n",
    "datos.head()\n"
   ]
  },
  {
   "cell_type": "code",
   "execution_count": 3,
   "id": "4be33ce0-7057-4a91-8597-f3502b2576c8",
   "metadata": {},
   "outputs": [
    {
     "data": {
      "text/plain": [
       "\"\\nSe elige el algoritmo de Regresión Lineal Simple porque:\\n- La relación entre 'bateos' y 'runs' se presume aproximadamente lineal.\\n- Es interpretable: la pendiente indica el cambio esperado en 'runs' por cada unidad de 'bateos'.\\n- Es eficiente y no requiere ajuste de muchos hiperparámetros.\\n\""
      ]
     },
     "execution_count": 3,
     "metadata": {},
     "output_type": "execute_result"
    }
   ],
   "source": [
    "# ==============================\n",
    "# Justificación del algoritmo\n",
    "# ==============================\n",
    "\"\"\"\n",
    "Se elige el algoritmo de Regresión Lineal Simple porque:\n",
    "- La relación entre 'bateos' y 'runs' se presume aproximadamente lineal.\n",
    "- Es interpretable: la pendiente indica el cambio esperado en 'runs' por cada unidad de 'bateos'.\n",
    "- Es eficiente y no requiere ajuste de muchos hiperparámetros.\n",
    "\"\"\"\n"
   ]
  },
  {
   "cell_type": "code",
   "execution_count": 4,
   "id": "40f4fb62-3204-4acc-a567-67792254ba6e",
   "metadata": {},
   "outputs": [
    {
     "name": "stdout",
     "output_type": "stream",
     "text": [
      "Entrenamiento: (24, 1)\n",
      "Prueba: (6, 1)\n"
     ]
    }
   ],
   "source": [
    "# ==============================\n",
    "# Preprocesamiento y división\n",
    "# ==============================\n",
    "X = datos[['bateos']]  # Variable independiente\n",
    "y = datos['runs']      # Variable dependiente\n",
    "\n",
    "X_train, X_test, y_train, y_test = train_test_split(\n",
    "    X, y, test_size=0.2, random_state=42\n",
    ")\n",
    "\n",
    "print(f\"Entrenamiento: {X_train.shape}\")\n",
    "print(f\"Prueba: {X_test.shape}\")\n"
   ]
  },
  {
   "cell_type": "code",
   "execution_count": 5,
   "id": "59ee0544-5786-4df9-a117-b85e0657240e",
   "metadata": {},
   "outputs": [
    {
     "name": "stdout",
     "output_type": "stream",
     "text": [
      "Pendiente (coef_): 0.6669\n",
      "Intersección (intercept_): -2981.5172\n"
     ]
    }
   ],
   "source": [
    "# ==============================\n",
    "# Diseño y entrenamiento del modelo\n",
    "# ==============================\n",
    "\"\"\"\n",
    "Diseño:\n",
    "-------\n",
    "Modelo: LinearRegression de scikit-learn.\n",
    "Entrenamiento con el conjunto de entrenamiento.\n",
    "Se evaluará con R² y RMSE.\n",
    "\"\"\"\n",
    "\n",
    "modelo = LinearRegression()\n",
    "modelo.fit(X_train, y_train)\n",
    "\n",
    "print(f\"Pendiente (coef_): {modelo.coef_[0]:.4f}\")\n",
    "print(f\"Intersección (intercept_): {modelo.intercept_:.4f}\")\n"
   ]
  },
  {
   "cell_type": "code",
   "execution_count": 7,
   "id": "fde5c0ad-6745-4834-b152-9f877827fa1c",
   "metadata": {},
   "outputs": [
    {
     "name": "stdout",
     "output_type": "stream",
     "text": [
      "R²: -0.5175\n",
      "RMSE: 72.2494\n"
     ]
    }
   ],
   "source": [
    "# Evaluación del modelo (compatible con versiones antiguas de scikit-learn)\n",
    "y_pred = modelo.predict(X_test)\n",
    "\n",
    "r2 = r2_score(y_test, y_pred)\n",
    "mse = mean_squared_error(y_test, y_pred)\n",
    "rmse = np.sqrt(mse)  # cálculo manual del RMSE\n",
    "\n",
    "print(f\"R²: {r2:.4f}\")\n",
    "print(f\"RMSE: {rmse:.4f}\")\n",
    "\n"
   ]
  },
  {
   "cell_type": "code",
   "execution_count": 8,
   "id": "9bd96256-4715-41a6-944d-02feb2d5c228",
   "metadata": {},
   "outputs": [
    {
     "data": {
      "image/png": "[encoded data removed]",
      "text/plain": [
       "<Figure size 800x600 with 1 Axes>"
      ]
     },
     "metadata": {},
     "output_type": "display_data"
    },
    {
     "data": {
      "text/plain": [
       "'\\nInterpretación:\\n---------------\\nLa gráfica muestra que existe una relación lineal positiva:\\na medida que aumentan los bateos, también aumentan los runs.\\nEl modelo captura esta tendencia, aunque algunos equipos\\npresentan valores alejados de la recta (posible influencia de otros factores).\\n'"
      ]
     },
     "execution_count": 8,
     "metadata": {},
     "output_type": "execute_result"
    }
   ],
   "source": [
    "# ==============================\n",
    "# Gráfica personalizada\n",
    "# ==============================\n",
    "plt.figure(figsize=(8,6))\n",
    "plt.scatter(X, y, color='blue', label='Datos reales')\n",
    "plt.plot(X, modelo.predict(X), color='red', label='Recta de regresión')\n",
    "plt.xlabel('Bateos')\n",
    "plt.ylabel('Runs')\n",
    "plt.title('Relación entre bateos y runs en béisbol')\n",
    "plt.legend()\n",
    "plt.show()\n",
    "\n",
    "\"\"\"\n",
    "Interpretación:\n",
    "---------------\n",
    "La gráfica muestra que existe una relación lineal positiva:\n",
    "a medida que aumentan los bateos, también aumentan los runs.\n",
    "El modelo captura esta tendencia, aunque algunos equipos\n",
    "presentan valores alejados de la recta (posible influencia de otros factores).\n",
    "\"\"\"\n"
   ]
  },
  {
   "cell_type": "code",
   "execution_count": 9,
   "id": "12612a99-0a7f-4fa4-8d83-a0866f235cc4",
   "metadata": {},
   "outputs": [
    {
     "name": "stdout",
     "output_type": "stream",
     "text": [
      "Modelo guardado como modelo_regresion_beisbol.pkl\n"
     ]
    }
   ],
   "source": [
    "# ==============================\n",
    "# Guardar modelo\n",
    "# ==============================\n",
    "joblib.dump(modelo, \"modelo_regresion_beisbol.pkl\")\n",
    "print(\"Modelo guardado como modelo_regresion_beisbol.pkl\")\n"
   ]
  },
  {
   "cell_type": "code",
   "execution_count": null,
   "id": "8a1d8d66-c49a-4280-93e0-de06469732ff",
   "metadata": {},
   "outputs": [],
   "source": []
  }
 ],
 "metadata": {
  "kernelspec": {
   "display_name": "Python 3 (ipykernel)",
   "language": "python",
   "name": "python3"
  },
  "language_info": {
   "codemirror_mode": {
    "name": "ipython",
    "version": 3
   },
   "file_extension": ".py",
   "mimetype": "text/x-python",
   "name": "python",
   "nbconvert_exporter": "python",
   "pygments_lexer": "ipython3",
   "version": "3.12.9"
  }
 },
 "nbformat": 4,
 "nbformat_minor": 5
}
