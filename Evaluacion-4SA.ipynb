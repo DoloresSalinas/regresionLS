{
 "cells": [
  {
   "cell_type": "code",
   "execution_count": 6,
   "id": "204fe5cf-0618-4a06-8715-7133ca8932eb",
   "metadata": {},
   "outputs": [
    {
     "name": "stdout",
     "output_type": "stream",
     "text": [
      "Librerías cargadas.\n"
     ]
    }
   ],
   "source": [
    "# =========================================\n",
    "# Primera celda — Importaciones y estilo\n",
    "# =========================================\n",
    "import pandas as pd\n",
    "import numpy as np\n",
    "import matplotlib.pyplot as plt\n",
    "import seaborn as sns\n",
    "from sklearn.preprocessing import StandardScaler\n",
    "from sklearn.decomposition import PCA\n",
    "from sklearn.impute import SimpleImputer\n",
    "import joblib\n",
    "\n",
    "sns.set(style=\"whitegrid\")\n",
    "print(\"Librerías cargadas.\")\n",
    "\n"
   ]
  },
  {
   "cell_type": "code",
   "execution_count": 7,
   "id": "532e1068-156b-46ff-aeda-e2928ff01f52",
   "metadata": {},
   "outputs": [
    {
     "data": {
      "text/html": [
       "<div>\n",
       "<style scoped>\n",
       "    .dataframe tbody tr th:only-of-type {\n",
       "        vertical-align: middle;\n",
       "    }\n",
       "\n",
       "    .dataframe tbody tr th {\n",
       "        vertical-align: top;\n",
       "    }\n",
       "\n",
       "    .dataframe thead th {\n",
       "        text-align: right;\n",
       "    }\n",
       "</style>\n",
       "<table border=\"1\" class=\"dataframe\">\n",
       "  <thead>\n",
       "    <tr style=\"text-align: right;\">\n",
       "      <th></th>\n",
       "      <th>ingresos</th>\n",
       "      <th>gastos_comunes</th>\n",
       "      <th>pago_coche</th>\n",
       "      <th>gastos_otros</th>\n",
       "      <th>ahorros</th>\n",
       "      <th>vivienda</th>\n",
       "      <th>estado_civil</th>\n",
       "      <th>hijos</th>\n",
       "      <th>trabajo</th>\n",
       "      <th>comprar</th>\n",
       "    </tr>\n",
       "  </thead>\n",
       "  <tbody>\n",
       "    <tr>\n",
       "      <th>0</th>\n",
       "      <td>6000</td>\n",
       "      <td>1000</td>\n",
       "      <td>0</td>\n",
       "      <td>600</td>\n",
       "      <td>50000</td>\n",
       "      <td>400000</td>\n",
       "      <td>0</td>\n",
       "      <td>2</td>\n",
       "      <td>2</td>\n",
       "      <td>1</td>\n",
       "    </tr>\n",
       "    <tr>\n",
       "      <th>1</th>\n",
       "      <td>6745</td>\n",
       "      <td>944</td>\n",
       "      <td>123</td>\n",
       "      <td>429</td>\n",
       "      <td>43240</td>\n",
       "      <td>636897</td>\n",
       "      <td>1</td>\n",
       "      <td>3</td>\n",
       "      <td>6</td>\n",
       "      <td>0</td>\n",
       "    </tr>\n",
       "    <tr>\n",
       "      <th>2</th>\n",
       "      <td>6455</td>\n",
       "      <td>1033</td>\n",
       "      <td>98</td>\n",
       "      <td>795</td>\n",
       "      <td>57463</td>\n",
       "      <td>321779</td>\n",
       "      <td>2</td>\n",
       "      <td>1</td>\n",
       "      <td>8</td>\n",
       "      <td>1</td>\n",
       "    </tr>\n",
       "    <tr>\n",
       "      <th>3</th>\n",
       "      <td>7098</td>\n",
       "      <td>1278</td>\n",
       "      <td>15</td>\n",
       "      <td>254</td>\n",
       "      <td>54506</td>\n",
       "      <td>660933</td>\n",
       "      <td>0</td>\n",
       "      <td>0</td>\n",
       "      <td>3</td>\n",
       "      <td>0</td>\n",
       "    </tr>\n",
       "    <tr>\n",
       "      <th>4</th>\n",
       "      <td>6167</td>\n",
       "      <td>863</td>\n",
       "      <td>223</td>\n",
       "      <td>520</td>\n",
       "      <td>41512</td>\n",
       "      <td>348932</td>\n",
       "      <td>0</td>\n",
       "      <td>0</td>\n",
       "      <td>3</td>\n",
       "      <td>1</td>\n",
       "    </tr>\n",
       "  </tbody>\n",
       "</table>\n",
       "</div>"
      ],
      "text/plain": [
       "   ingresos  gastos_comunes  pago_coche  gastos_otros  ahorros  vivienda  \\\n",
       "0      6000            1000           0           600    50000    400000   \n",
       "1      6745             944         123           429    43240    636897   \n",
       "2      6455            1033          98           795    57463    321779   \n",
       "3      7098            1278          15           254    54506    660933   \n",
       "4      6167             863         223           520    41512    348932   \n",
       "\n",
       "   estado_civil  hijos  trabajo  comprar  \n",
       "0             0      2        2        1  \n",
       "1             1      3        6        0  \n",
       "2             2      1        8        1  \n",
       "3             0      0        3        0  \n",
       "4             0      0        3        1  "
      ]
     },
     "execution_count": 7,
     "metadata": {},
     "output_type": "execute_result"
    }
   ],
   "source": [
    "# ==============================\n",
    "# Segunda celda - Carga de datos\n",
    "# ==============================\n",
    "datos = pd.read_csv(\"C:/RespaldoDB/comprar_alquilar.csv\")\n",
    "datos.head()\n"
   ]
  },
  {
   "cell_type": "code",
   "execution_count": 8,
   "id": "42abbde3-6bfd-4682-8842-c2de13164d64",
   "metadata": {},
   "outputs": [
    {
     "data": {
      "text/plain": [
       "'\\nJustificación del algoritmo\\n---------------------------\\nSe emplea PCA (Análisis de Componentes Principales) para:\\n- Decorrelacionar variables numéricas y ordenar la información por importancia (varianza).\\n- Explorar la estructura interna y facilitar visualizaciones.\\n- Conservar exactamente el 100% de la varianza, tal como se solicita. Nota: esto implica\\n  no reducir dimensionalidad (el número de componentes será igual al número de variables\\n  numéricas usadas). Aun así, el espacio transformado es útil como representación ortogonal\\n  y para comprender la contribución de cada componente.\\n\\nDescripción del diseño del modelo\\n---------------------------------\\n1) Preprocesamiento:\\n   - Selección de variables predictoras numéricas (todas menos la etiqueta \\'comprar\\').\\n   - Imputación de valores faltantes con la media (SimpleImputer), por robustez.\\n   - Estandarización (StandardScaler) para que PCA no se sesgue por escalas distintas.\\n\\n2) PCA:\\n   - Se calcula PCA y se obtiene la curva de varianza acumulada.\\n   - Se escoge el número mínimo de componentes necesarias para alcanzar 100% de varianza.\\n     (En la práctica, coincide con todas las variables: no hay reducción, pero sí rotación).\\n\\nEvaluación y optimización del modelo\\n------------------------------------\\n- Métrica: varianza explicada por componente y varianza acumulada.\\n- \"Optimización\": el umbral de varianza se fija en 100% (1.0), cumpliendo el requerimiento.\\n  Para escenarios reales se recomienda 95%-99% para reducir dimensionalidad con mínima pérdida.\\n\\nEnlace a repositorio\\n--------------------\\nDefine \\'repo_url\\' abajo con el enlace a tu repositorio (GitHub/GitLab) donde subas:\\n- Este notebook\\n- comprar_alquilar.csv\\n- modelo_pca_comprar_alquilar.pkl\\n- scaler_comprar_alquilar.pkl\\n'"
      ]
     },
     "execution_count": 8,
     "metadata": {},
     "output_type": "execute_result"
    }
   ],
   "source": [
    "# =========================================\n",
    "# Justificación del algoritmo (REPORTE)\n",
    "# =========================================\n",
    "\"\"\"\n",
    "Justificación del algoritmo\n",
    "---------------------------\n",
    "Se emplea PCA (Análisis de Componentes Principales) para:\n",
    "- Decorrelacionar variables numéricas y ordenar la información por importancia (varianza).\n",
    "- Explorar la estructura interna y facilitar visualizaciones.\n",
    "- Conservar exactamente el 100% de la varianza, tal como se solicita. Nota: esto implica\n",
    "  no reducir dimensionalidad (el número de componentes será igual al número de variables\n",
    "  numéricas usadas). Aun así, el espacio transformado es útil como representación ortogonal\n",
    "  y para comprender la contribución de cada componente.\n",
    "\n",
    "Descripción del diseño del modelo\n",
    "---------------------------------\n",
    "1) Preprocesamiento:\n",
    "   - Selección de variables predictoras numéricas (todas menos la etiqueta 'comprar').\n",
    "   - Imputación de valores faltantes con la media (SimpleImputer), por robustez.\n",
    "   - Estandarización (StandardScaler) para que PCA no se sesgue por escalas distintas.\n",
    "\n",
    "2) PCA:\n",
    "   - Se calcula PCA y se obtiene la curva de varianza acumulada.\n",
    "   - Se escoge el número mínimo de componentes necesarias para alcanzar 100% de varianza.\n",
    "     (En la práctica, coincide con todas las variables: no hay reducción, pero sí rotación).\n",
    "\n",
    "Evaluación y optimización del modelo\n",
    "------------------------------------\n",
    "- Métrica: varianza explicada por componente y varianza acumulada.\n",
    "- \"Optimización\": el umbral de varianza se fija en 100% (1.0), cumpliendo el requerimiento.\n",
    "  Para escenarios reales se recomienda 95%-99% para reducir dimensionalidad con mínima pérdida.\n",
    "\n",
    "Enlace a repositorio\n",
    "--------------------\n",
    "Define 'repo_url' abajo con el enlace a tu repositorio (GitHub/GitLab) donde subas:\n",
    "- Este notebook\n",
    "- comprar_alquilar.csv\n",
    "- modelo_pca_comprar_alquilar.pkl\n",
    "- scaler_comprar_alquilar.pkl\n",
    "\"\"\"\n",
    "\n"
   ]
  },
  {
   "cell_type": "code",
   "execution_count": 9,
   "id": "1fed68b4-d745-4d01-a99e-6495cca4f562",
   "metadata": {},
   "outputs": [
    {
     "name": "stdout",
     "output_type": "stream",
     "text": [
      "Variables usadas: ['ingresos', 'gastos_comunes', 'pago_coche', 'gastos_otros', 'ahorros', 'vivienda', 'estado_civil', 'hijos', 'trabajo']\n",
      "Shape tras imputación y escalado: (202, 9)\n"
     ]
    }
   ],
   "source": [
    "# =========================================\n",
    "# Preprocesamiento\n",
    "# =========================================\n",
    "# Excluimos la etiqueta 'comprar' si existe\n",
    "cols = [c for c in datos.columns if c != 'comprar']\n",
    "X = datos[cols].copy()\n",
    "\n",
    "# Si hay columnas no numéricas, intenta convertirlas o elimínalas explícitamente\n",
    "# (en tu ejemplo parecen ser numéricas ya codificadas)\n",
    "X = X.apply(pd.to_numeric, errors='coerce')\n",
    "\n",
    "# Imputación y escalado\n",
    "imputer = SimpleImputer(strategy='mean')\n",
    "scaler = StandardScaler()\n",
    "\n",
    "X_imp = imputer.fit_transform(X)\n",
    "X_scaled = scaler.fit_transform(X_imp)\n",
    "\n",
    "print(\"Variables usadas:\", X.columns.tolist())\n",
    "print(\"Shape tras imputación y escalado:\", X_scaled.shape)\n",
    "\n"
   ]
  },
  {
   "cell_type": "code",
   "execution_count": 11,
   "id": "d0fac901-6263-42e9-b675-bd52e9a4a728",
   "metadata": {},
   "outputs": [
    {
     "name": "stdout",
     "output_type": "stream",
     "text": [
      "Número final de componentes usados: 9\n",
      "Componentes seleccionadas para 100% de varianza: 9\n",
      "Varianza explicada por componente: [0.2991 0.2329 0.1171 0.1069 0.0964 0.0563 0.0415 0.0302 0.0197]\n",
      "Varianza acumulada: [0.2991 0.5321 0.6492 0.7561 0.8524 0.9087 0.9502 0.9803 1.    ]\n"
     ]
    }
   ],
   "source": [
    "# =========================================\n",
    "# PCA con 100% de varianza\n",
    "# =========================================\n",
    "# Primero ajustamos PCA completo para ver la varianza explicada por cada componente\n",
    "pca_full = PCA(n_components=None)\n",
    "pca_full.fit(X_scaled)\n",
    "\n",
    "var_ratio = pca_full.explained_variance_ratio_\n",
    "cum_var = np.cumsum(var_ratio)\n",
    "\n",
    "# Umbral de varianza solicitado: 100%\n",
    "umbral_varianza = 1.0\n",
    "# Número máximo de componentes posibles\n",
    "n_max = min(X_scaled.shape)\n",
    "\n",
    "# Número necesario para llegar al 100% de varianza acumulada\n",
    "n_componentes_opt = int(np.searchsorted(cum_var, umbral_varianza) + 1)\n",
    "\n",
    "# Ajustamos al límite máximo permitido\n",
    "n_componentes_opt = min(n_componentes_opt, n_max)\n",
    "\n",
    "print(\"Número final de componentes usados:\", n_componentes_opt)\n",
    "\n",
    "\n",
    "# Ajustamos PCA final con el número de componentes necesarios (serán todas)\n",
    "pca = PCA(n_components=n_componentes_opt)\n",
    "X_pca = pca.fit_transform(X_scaled)\n",
    "\n",
    "print(f\"Componentes seleccionadas para {umbral_varianza*100:.0f}% de varianza:\", n_componentes_opt)\n",
    "print(\"Varianza explicada por componente:\", np.round(pca.explained_variance_ratio_, 4))\n",
    "print(\"Varianza acumulada:\", np.round(np.cumsum(pca.explained_variance_ratio_), 4))\n"
   ]
  },
  {
   "cell_type": "code",
   "execution_count": 12,
   "id": "b3cb34cd-ec89-47c4-a34f-961abaf1099d",
   "metadata": {},
   "outputs": [
    {
     "data": {
      "image/png": "[encoded data removed]",
      "text/plain": [
       "<Figure size 900x600 with 1 Axes>"
      ]
     },
     "metadata": {},
     "output_type": "display_data"
    },
    {
     "data": {
      "text/plain": [
       "'\\nInterpretación de la gráfica\\n----------------------------\\n- Las barras muestran cuánta varianza aporta cada componente.\\n- La curva acumulada alcanza 1.0 (100%) en la última componente, lo que confirma que,\\n  para no perder información (varianza), necesitamos conservar todas las componentes.\\n- Aunque no hay reducción, la descomposición en componentes principales sigue siendo útil\\n  para análisis exploratorio, detección de redundancias y preparación de pasos posteriores\\n  (p.ej., si más adelante decides trabajar con 95%-99% de varianza).\\n'"
      ]
     },
     "execution_count": 12,
     "metadata": {},
     "output_type": "execute_result"
    }
   ],
   "source": [
    "# =========================================\n",
    "# Gráfica personalizada — Scree + Varianza acumulada\n",
    "# =========================================\n",
    "plt.figure(figsize=(9,6))\n",
    "indices = np.arange(1, len(var_ratio)+1)\n",
    "\n",
    "# Scree plot (barras)\n",
    "plt.bar(indices, var_ratio, alpha=0.7, label='Varianza explicada (cada CP)')\n",
    "\n",
    "# Curva acumulada\n",
    "plt.plot(indices, cum_var, marker='o', label='Varianza acumulada')\n",
    "\n",
    "# Línea del umbral (100%)\n",
    "plt.axhline(umbral_varianza, linestyle='--', label=f'Umbral {int(umbral_varianza*100)}%')\n",
    "\n",
    "plt.xlabel('Componente Principal')\n",
    "plt.ylabel('Proporción de Varianza')\n",
    "plt.title('Scree Plot y Varianza Acumulada (PCA)')\n",
    "plt.legend()\n",
    "plt.tight_layout()\n",
    "plt.show()\n",
    "\n",
    "\"\"\"\n",
    "Interpretación de la gráfica\n",
    "----------------------------\n",
    "- Las barras muestran cuánta varianza aporta cada componente.\n",
    "- La curva acumulada alcanza 1.0 (100%) en la última componente, lo que confirma que,\n",
    "  para no perder información (varianza), necesitamos conservar todas las componentes.\n",
    "- Aunque no hay reducción, la descomposición en componentes principales sigue siendo útil\n",
    "  para análisis exploratorio, detección de redundancias y preparación de pasos posteriores\n",
    "  (p.ej., si más adelante decides trabajar con 95%-99% de varianza).\n",
    "\"\"\"\n"
   ]
  },
  {
   "cell_type": "code",
   "execution_count": 14,
   "id": "c183ad47-9421-425c-bad8-d6fef73a2841",
   "metadata": {},
   "outputs": [
    {
     "name": "stdout",
     "output_type": "stream",
     "text": [
      "Modelo PCA y escalador guardados.\n"
     ]
    }
   ],
   "source": [
    "# ==============================\n",
    "# Guardar modelo y escalador\n",
    "# ==============================\n",
    "joblib.dump(pca, \"modelo_pca_comprar_alquilar.pkl\")\n",
    "joblib.dump(scaler, \"scaler_comprar_alquilar.pkl\")\n",
    "print(\"Modelo PCA y escalador guardados.\")\n"
   ]
  },
  {
   "cell_type": "code",
   "execution_count": null,
   "id": "dce581d6-4037-4106-ab97-287529de5546",
   "metadata": {},
   "outputs": [],
   "source": []
  }
 ],
 "metadata": {
  "kernelspec": {
   "display_name": "Python 3 (ipykernel)",
   "language": "python",
   "name": "python3"
  },
  "language_info": {
   "codemirror_mode": {
    "name": "ipython",
    "version": 3
   },
   "file_extension": ".py",
   "mimetype": "text/x-python",
   "name": "python",
   "nbconvert_exporter": "python",
   "pygments_lexer": "ipython3",
   "version": "3.12.9"
  }
 },
 "nbformat": 4,
 "nbformat_minor": 5
}
