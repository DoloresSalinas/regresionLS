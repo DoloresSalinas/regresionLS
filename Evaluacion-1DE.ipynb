{
 "cells": [
  {
   "cell_type": "code",
   "execution_count": 3,
   "id": "496660c5-ee5d-42b4-bc72-19d11ad3e9a8",
   "metadata": {},
   "outputs": [
    {
     "name": "stdout",
     "output_type": "stream",
     "text": [
      "Todas las librerías cargadas.\n"
     ]
    }
   ],
   "source": [
    "# ==============================\n",
    "# Primera celda - Importaciones\n",
    "# ==============================\n",
    "# Justificación del algoritmo:\n",
    "# RidgeClassifier se utiliza para clasificación binaria en datasets con posibles correlaciones\n",
    "# entre variables. La regularización L2 evita sobreajuste y mejora la generalización del modelo.\n",
    "import pandas as pd\n",
    "import numpy as np\n",
    "import matplotlib.pyplot as plt\n",
    "import seaborn as sns\n",
    "from sklearn.model_selection import train_test_split, GridSearchCV, RepeatedStratifiedKFold\n",
    "from sklearn.linear_model import RidgeClassifier\n",
    "from sklearn.tree import DecisionTreeClassifier\n",
    "from sklearn.preprocessing import StandardScaler\n",
    "from sklearn.metrics import accuracy_score, confusion_matrix, classification_report, roc_auc_score\n",
    "sns.set(style='whitegrid')\n",
    "print(\"Todas las librerías cargadas.\")\n",
    "\n"
   ]
  },
  {
   "cell_type": "code",
   "execution_count": 4,
   "id": "4f11c690-f62d-4091-9ba3-f3580806f537",
   "metadata": {},
   "outputs": [],
   "source": [
    "# ==============================\n",
    "# Segunda celda - Carga de datos\n",
    "# ==============================\n",
    "# Descripción del diseño del modelo:\n",
    "# Variable objetivo: 'diagnosis' (Maligno=1, Benigno=0)\n",
    "# Variables predictoras: todas las columnas numéricas excepto 'id' y 'diagnosis'\n",
    "# Se realizará escalamiento de datos para RidgeClassifier.\n",
    "datos = pd.read_csv(\"C:/RespaldoDB/breast-cancer.csv\")\n",
    "datos.head()\n",
    "\n",
    "# Convertir variable diagnóstico a numérica\n",
    "datos['diagnosis'] = datos['diagnosis'].map({'M':1, 'B':0})\n"
   ]
  },
  {
   "cell_type": "code",
   "execution_count": 5,
   "id": "fecb3987-e9f6-4a66-9f4a-dd626488b3cd",
   "metadata": {},
   "outputs": [],
   "source": [
    "# ==============================\n",
    "# Preparación\n",
    "# ==============================\n",
    "# Evaluación y optimización del modelo:\n",
    "# Se dividirá el dataset en train y test (80/20) para evaluar desempeño.\n",
    "# Se escalarán las variables predictoras.\n",
    "y = datos['diagnosis']\n",
    "X = datos.drop(['id','diagnosis'], axis=1)\n",
    "\n",
    "scaler = StandardScaler()\n",
    "X_scaled = scaler.fit_transform(X)\n",
    "\n",
    "X_train, X_test, y_train, y_test = train_test_split(\n",
    "    X_scaled, y, test_size=0.2, random_state=42, stratify=y\n",
    ")\n",
    "\n"
   ]
  },
  {
   "cell_type": "code",
   "execution_count": 6,
   "id": "fd6aec7c-c36e-4ee1-8de1-9859bf345acf",
   "metadata": {},
   "outputs": [
    {
     "name": "stdout",
     "output_type": "stream",
     "text": [
      "Mejor alpha encontrado: {'alpha': 0.01}\n"
     ]
    }
   ],
   "source": [
    "# ==============================\n",
    "# Optimización con GridSearch\n",
    "# ==============================\n",
    "# Evaluación y optimización del modelo:\n",
    "# Se utilizará GridSearchCV con validación cruzada estratificada (5 folds, 2 repeticiones)\n",
    "# para encontrar el mejor valor del hiperparámetro alpha (regularización L2).\n",
    "ridge = RidgeClassifier()\n",
    "param_grid = {'alpha': [0.01, 0.1, 1.0, 10.0, 100.0]}\n",
    "cv = RepeatedStratifiedKFold(n_splits=5, n_repeats=2, random_state=42)\n",
    "grid = GridSearchCV(ridge, param_grid, cv=cv, scoring='accuracy')\n",
    "grid.fit(X_train, y_train)\n",
    "\n",
    "best_ridge = grid.best_estimator_\n",
    "print(\"Mejor alpha encontrado:\", grid.best_params_)\n",
    "\n"
   ]
  },
  {
   "cell_type": "code",
   "execution_count": 7,
   "id": "b4de7bbd-e734-438e-a5c5-51b14012263e",
   "metadata": {},
   "outputs": [
    {
     "name": "stdout",
     "output_type": "stream",
     "text": [
      "Accuracy: 0.9649122807017544\n",
      "Classification Report:\n",
      "               precision    recall  f1-score   support\n",
      "\n",
      "           0       0.95      1.00      0.97        72\n",
      "           1       1.00      0.90      0.95        42\n",
      "\n",
      "    accuracy                           0.96       114\n",
      "   macro avg       0.97      0.95      0.96       114\n",
      "weighted avg       0.97      0.96      0.96       114\n",
      "\n",
      "Confusion Matrix:\n",
      " [[72  0]\n",
      " [ 4 38]]\n"
     ]
    }
   ],
   "source": [
    "# ==============================\n",
    "# Evaluación\n",
    "# ==============================\n",
    "y_pred = best_ridge.predict(X_test)\n",
    "\n",
    "print(\"Accuracy:\", accuracy_score(y_test, y_pred))\n",
    "print(\"Classification Report:\\n\", classification_report(y_test, y_pred))\n",
    "print(\"Confusion Matrix:\\n\", confusion_matrix(y_test, y_pred))\n"
   ]
  },
  {
   "cell_type": "code",
   "execution_count": 8,
   "id": "f60cd6bc-3587-4059-ac76-08ccad7a308e",
   "metadata": {},
   "outputs": [
    {
     "name": "stdout",
     "output_type": "stream",
     "text": [
      "Accuracy Árbol de Decisión: 0.9298245614035088\n",
      "Classification Report Árbol de Decisión:\n",
      "               precision    recall  f1-score   support\n",
      "\n",
      "           0       0.94      0.94      0.94        72\n",
      "           1       0.90      0.90      0.90        42\n",
      "\n",
      "    accuracy                           0.93       114\n",
      "   macro avg       0.92      0.92      0.92       114\n",
      "weighted avg       0.93      0.93      0.93       114\n",
      "\n"
     ]
    }
   ],
   "source": [
    "# ==============================\n",
    "# Árbol de Decisión\n",
    "# ==============================\n",
    "# Justificación: se incluye un modelo alternativo para comparar desempeño.\n",
    "tree = DecisionTreeClassifier(random_state=42)\n",
    "tree.fit(X_train, y_train)\n",
    "y_tree_pred = tree.predict(X_test)\n",
    "\n",
    "print(\"Accuracy Árbol de Decisión:\", accuracy_score(y_test, y_tree_pred))\n",
    "print(\"Classification Report Árbol de Decisión:\\n\", classification_report(y_test, y_tree_pred))\n",
    "\n"
   ]
  },
  {
   "cell_type": "code",
   "execution_count": 11,
   "id": "6f83c6c4-88fa-4301-bcce-e680d1ad8338",
   "metadata": {},
   "outputs": [
    {
     "name": "stdout",
     "output_type": "stream",
     "text": [
      "Modelo RidgeClassifier guardado para repositorio.\n",
      "Accuracy RidgeClassifier: 0.9649\n",
      "\n",
      "Classification Report:\n",
      "               precision    recall  f1-score   support\n",
      "\n",
      "           0       0.95      1.00      0.97        72\n",
      "           1       1.00      0.90      0.95        42\n",
      "\n",
      "    accuracy                           0.96       114\n",
      "   macro avg       0.97      0.95      0.96       114\n",
      "weighted avg       0.97      0.96      0.96       114\n",
      "\n",
      "Confusion Matrix:\n",
      " [[72  0]\n",
      " [ 4 38]]\n"
     ]
    },
    {
     "data": {
      "image/png": "[encoded data removed]",
      "text/plain": [
       "<Figure size 600x500 with 2 Axes>"
      ]
     },
     "metadata": {},
     "output_type": "display_data"
    }
   ],
   "source": [
    "# ==============================\n",
    "# Guardar modelo RidgeClassifier entrenado\n",
    "# ==============================\n",
    "import joblib\n",
    "\n",
    "# Guardamos el modelo optimizado desde GridSearchCV\n",
    "joblib.dump(grid.best_estimator_, \"modelo_ridge_breast_cancer.pkl\")\n",
    "print(\"Modelo RidgeClassifier guardado para repositorio.\")\n",
    "\n",
    "# ==============================\n",
    "# Evaluación del RidgeClassifier\n",
    "# ==============================\n",
    "y_pred = grid.best_estimator_.predict(X_test)\n",
    "\n",
    "# Métricas principales\n",
    "accuracy = accuracy_score(y_test, y_pred)\n",
    "print(f\"Accuracy RidgeClassifier: {accuracy:.4f}\")\n",
    "\n",
    "print(\"\\nClassification Report:\\n\", classification_report(y_test, y_pred))\n",
    "\n",
    "cm = confusion_matrix(y_test, y_pred)\n",
    "print(\"Confusion Matrix:\\n\", cm)\n",
    "\n",
    "# Visualización de la matriz de confusión\n",
    "plt.figure(figsize=(6,5))\n",
    "sns.heatmap(cm, annot=True, fmt='d', cmap='Blues',\n",
    "            xticklabels=['Benigno','Maligno'], yticklabels=['Benigno','Maligno'])\n",
    "plt.xlabel(\"Predicho\")\n",
    "plt.ylabel(\"Real\")\n",
    "plt.title(\"Matriz de confusión - RidgeClassifier\")\n",
    "plt.show()\n",
    "\n",
    "\n"
   ]
  },
  {
   "cell_type": "code",
   "execution_count": 12,
   "id": "811d08f3-17d6-43da-803c-8c17ad4d3ec3",
   "metadata": {},
   "outputs": [
    {
     "data": {
      "text/plain": [
       "'\\nRidgeClassifier ofrece un rendimiento estable y generalizable, mientras que el árbol de decisión puede ser más sensible al sobreajuste sin ajuste de hiperparámetros. Para problemas de clasificación con muchas variables correlacionadas, RidgeClassifier suele ser preferible.\\n'"
      ]
     },
     "execution_count": 12,
     "metadata": {},
     "output_type": "execute_result"
    }
   ],
   "source": [
    "# ==============================\n",
    "# Interpretación de resultados\n",
    "# ==============================\n",
    "\"\"\"\n",
    "RidgeClassifier ofrece un rendimiento estable y generalizable, mientras que el árbol de decisión puede ser más sensible al sobreajuste sin ajuste de hiperparámetros. Para problemas de clasificación con muchas variables correlacionadas, RidgeClassifier suele ser preferible.\n",
    "\"\"\"\n"
   ]
  },
  {
   "cell_type": "code",
   "execution_count": null,
   "id": "909c7024-ded1-4394-9148-ed41b6d5cac7",
   "metadata": {},
   "outputs": [],
   "source": []
  },
  {
   "cell_type": "code",
   "execution_count": null,
   "id": "29c68493-870f-4952-8f55-fe2da47d7db3",
   "metadata": {},
   "outputs": [],
   "source": []
  }
 ],
 "metadata": {
  "kernelspec": {
   "display_name": "Python 3 (ipykernel)",
   "language": "python",
   "name": "python3"
  },
  "language_info": {
   "codemirror_mode": {
    "name": "ipython",
    "version": 3
   },
   "file_extension": ".py",
   "mimetype": "text/x-python",
   "name": "python",
   "nbconvert_exporter": "python",
   "pygments_lexer": "ipython3",
   "version": "3.12.9"
  }
 },
 "nbformat": 4,
 "nbformat_minor": 5
}
