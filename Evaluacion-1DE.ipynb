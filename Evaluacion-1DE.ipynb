{
 "cells": [
  {
   "cell_type": "code",
   "execution_count": 9,
   "id": "496660c5-ee5d-42b4-bc72-19d11ad3e9a8",
   "metadata": {},
   "outputs": [
    {
     "name": "stdout",
     "output_type": "stream",
     "text": [
      "Librerías cargadas correctamente.\n"
     ]
    }
   ],
   "source": [
    "# ==============================\n",
    "# Primera celda - Importaciones\n",
    "# ==============================\n",
    "import pandas as pd\n",
    "from pandas import read_csv\n",
    "from sklearn.linear_model import LogisticRegression\n",
    "from sklearn.tree import DecisionTreeClassifier\n",
    "from sklearn.model_selection import RepeatedStratifiedKFold, GridSearchCV, train_test_split\n",
    "from sklearn.metrics import accuracy_score, confusion_matrix, precision_score, recall_score, f1_score, roc_auc_score, classification_report\n",
    "import matplotlib.pyplot as plt\n",
    "import seaborn as sns\n",
    "import joblib\n",
    "\n",
    "sns.set(style='whitegrid')\n",
    "print(\"Librerías cargadas correctamente.\")\n",
    "\n",
    "\n"
   ]
  },
  {
   "cell_type": "code",
   "execution_count": 11,
   "id": "4f11c690-f62d-4091-9ba3-f3580806f537",
   "metadata": {},
   "outputs": [],
   "source": [
    "# ==============================\n",
    "# Segunda celda - Carga del dataset\n",
    "# ==============================\n",
    "# Para tu caso cambiar el CSV a breast_cancer.csv\n",
    "datos = pd.read_csv(\"C:/RespaldoDB/breast-cancer.csv\")\n",
    "datos.head()\n",
    "\n",
    "# Convertir variable objetivo a numérica\n",
    "datos['diagnosis'] = datos['diagnosis'].map({'M': 1, 'B': 0})\n",
    "\n",
    "# Separación de variables\n",
    "X = datos.drop(columns=['id', 'diagnosis'])\n",
    "y = datos['diagnosis']\n",
    "\n",
    "# División en entrenamiento y prueba\n",
    "X_train, X_test, y_train, y_test = train_test_split(\n",
    "    X, y, test_size=0.2, random_state=42, stratify=y\n",
    ")\n"
   ]
  },
  {
   "cell_type": "code",
   "execution_count": 12,
   "id": "fecb3987-e9f6-4a66-9f4a-dd626488b3cd",
   "metadata": {},
   "outputs": [
    {
     "data": {
      "text/plain": [
       "'\\nSe usan dos enfoques:\\n\\n1. Regresión Logística:\\n   - Ideal para clasificación binaria.\\n   - Permite interpretar coeficientes y probabilidades.\\n   - Se optimiza mediante GridSearch para regularización.\\n\\n2. Árbol de Decisión:\\n   - Capaz de capturar relaciones no lineales entre variables.\\n   - Proporciona reglas de decisión claras.\\n   - Se optimiza ajustando profundidad máxima y número mínimo de muestras por hoja.\\n'"
      ]
     },
     "execution_count": 12,
     "metadata": {},
     "output_type": "execute_result"
    }
   ],
   "source": [
    "# ==============================\n",
    "# Justificación del algoritmo\n",
    "# ==============================\n",
    "\"\"\"\n",
    "Se usan dos enfoques:\n",
    "\n",
    "1. Regresión Logística:\n",
    "   - Ideal para clasificación binaria.\n",
    "   - Permite interpretar coeficientes y probabilidades.\n",
    "   - Se optimiza mediante GridSearch para regularización.\n",
    "\n",
    "2. Árbol de Decisión:\n",
    "   - Capaz de capturar relaciones no lineales entre variables.\n",
    "   - Proporciona reglas de decisión claras.\n",
    "   - Se optimiza ajustando profundidad máxima y número mínimo de muestras por hoja.\n",
    "\"\"\"\n"
   ]
  },
  {
   "cell_type": "code",
   "execution_count": 13,
   "id": "fd6aec7c-c36e-4ee1-8de1-9859bf345acf",
   "metadata": {},
   "outputs": [
    {
     "name": "stdout",
     "output_type": "stream",
     "text": [
      "Mejores parámetros: {'C': 100.0, 'penalty': 'l2'}\n",
      "Mejor exactitud validación cruzada: 0.9655677655677656\n"
     ]
    }
   ],
   "source": [
    "# ==============================\n",
    "# Búsqueda en cuadrícula para Regresión Logística\n",
    "# ==============================\n",
    "# Definir modelo\n",
    "logreg = LogisticRegression(max_iter=1000, solver='liblinear')\n",
    "\n",
    "# Definir hiperparámetros a explorar\n",
    "param_grid = {\n",
    "    'C': [0.01, 0.1, 1.0, 10.0, 100.0],  # fuerza de regularización\n",
    "    'penalty': ['l1', 'l2']               # tipo de regularización\n",
    "}\n",
    "\n",
    "# GridSearch con validación cruzada estratificada repetida\n",
    "cv = RepeatedStratifiedKFold(n_splits=5, n_repeats=3, random_state=42)\n",
    "grid_log = GridSearchCV(logreg, param_grid, scoring='accuracy', cv=cv, n_jobs=-1)\n",
    "grid_log.fit(X_train, y_train)\n",
    "\n",
    "print(\"Mejores parámetros:\", grid_log.best_params_)\n",
    "print(\"Mejor exactitud validación cruzada:\", grid_log.best_score_)\n"
   ]
  },
  {
   "cell_type": "code",
   "execution_count": 14,
   "id": "b4de7bbd-e734-438e-a5c5-51b14012263e",
   "metadata": {},
   "outputs": [
    {
     "name": "stdout",
     "output_type": "stream",
     "text": [
      "Reporte clasificación - Regresión Logística\n",
      "              precision    recall  f1-score   support\n",
      "\n",
      "           0       0.92      0.97      0.95        72\n",
      "           1       0.95      0.86      0.90        42\n",
      "\n",
      "    accuracy                           0.93       114\n",
      "   macro avg       0.93      0.91      0.92       114\n",
      "weighted avg       0.93      0.93      0.93       114\n",
      "\n"
     ]
    },
    {
     "data": {
      "image/png": "[encoded data removed]",
      "text/plain": [
       "<Figure size 640x480 with 2 Axes>"
      ]
     },
     "metadata": {},
     "output_type": "display_data"
    }
   ],
   "source": [
    "# ==============================\n",
    "# Evaluación del modelo Logística\n",
    "# ==============================\n",
    "y_pred_log = grid_log.predict(X_test)\n",
    "y_proba_log = grid_log.predict_proba(X_test)[:,1]\n",
    "\n",
    "print(\"Reporte clasificación - Regresión Logística\")\n",
    "print(classification_report(y_test, y_pred_log))\n",
    "\n",
    "# Matriz de confusión\n",
    "cm = confusion_matrix(y_test, y_pred_log)\n",
    "sns.heatmap(cm, annot=True, fmt=\"d\", cmap=\"Blues\", xticklabels=[\"B\",\"M\"], yticklabels=[\"B\",\"M\"])\n",
    "plt.xlabel(\"Predicción\")\n",
    "plt.ylabel(\"Real\")\n",
    "plt.title(\"Matriz de Confusión - Regresión Logística\")\n",
    "plt.show()\n"
   ]
  },
  {
   "cell_type": "code",
   "execution_count": 15,
   "id": "f60cd6bc-3587-4059-ac76-08ccad7a308e",
   "metadata": {},
   "outputs": [
    {
     "name": "stdout",
     "output_type": "stream",
     "text": [
      "Mejores parámetros árbol: {'max_depth': 10, 'min_samples_leaf': 2, 'min_samples_split': 5}\n",
      "Mejor exactitud validación cruzada árbol: 0.9326007326007327\n"
     ]
    }
   ],
   "source": [
    "# ==============================\n",
    "# Árbol de decisión con optimización\n",
    "# ==============================\n",
    "tree = DecisionTreeClassifier(random_state=42)\n",
    "\n",
    "# Grid de hiperparámetros\n",
    "param_tree = {\n",
    "    'max_depth': [3, 5, 7, 10, None],\n",
    "    'min_samples_split': [2, 5, 10, 20],\n",
    "    'min_samples_leaf': [1, 2, 5, 10]\n",
    "}\n",
    "\n",
    "grid_tree = GridSearchCV(tree, param_tree, scoring='accuracy', cv=cv, n_jobs=-1)\n",
    "grid_tree.fit(X_train, y_train)\n",
    "\n",
    "print(\"Mejores parámetros árbol:\", grid_tree.best_params_)\n",
    "print(\"Mejor exactitud validación cruzada árbol:\", grid_tree.best_score_)\n"
   ]
  },
  {
   "cell_type": "code",
   "execution_count": 16,
   "id": "6f83c6c4-88fa-4301-bcce-e680d1ad8338",
   "metadata": {},
   "outputs": [
    {
     "name": "stdout",
     "output_type": "stream",
     "text": [
      "Reporte clasificación - Árbol de Decisión\n",
      "              precision    recall  f1-score   support\n",
      "\n",
      "           0       0.93      0.97      0.95        72\n",
      "           1       0.95      0.88      0.91        42\n",
      "\n",
      "    accuracy                           0.94       114\n",
      "   macro avg       0.94      0.93      0.93       114\n",
      "weighted avg       0.94      0.94      0.94       114\n",
      "\n"
     ]
    },
    {
     "data": {
      "image/png": "[encoded data removed]",
      "text/plain": [
       "<Figure size 640x480 with 2 Axes>"
      ]
     },
     "metadata": {},
     "output_type": "display_data"
    }
   ],
   "source": [
    "# ==============================\n",
    "# Evaluación Árbol de Decisión\n",
    "# ==============================\n",
    "y_pred_tree = grid_tree.predict(X_test)\n",
    "\n",
    "print(\"Reporte clasificación - Árbol de Decisión\")\n",
    "print(classification_report(y_test, y_pred_tree))\n",
    "\n",
    "# Matriz de confusión\n",
    "cm_tree = confusion_matrix(y_test, y_pred_tree)\n",
    "sns.heatmap(cm_tree, annot=True, fmt=\"d\", cmap=\"Oranges\", xticklabels=[\"B\",\"M\"], yticklabels=[\"B\",\"M\"])\n",
    "plt.xlabel(\"Predicción\")\n",
    "plt.ylabel(\"Real\")\n",
    "plt.title(\"Matriz de Confusión - Árbol de Decisión\")\n",
    "plt.show()\n"
   ]
  },
  {
   "cell_type": "code",
   "execution_count": 17,
   "id": "811d08f3-17d6-43da-803c-8c17ad4d3ec3",
   "metadata": {},
   "outputs": [
    {
     "name": "stdout",
     "output_type": "stream",
     "text": [
      "Modelos guardados para repositorio.\n"
     ]
    }
   ],
   "source": [
    "# ==============================\n",
    "# Guardar modelos entrenados\n",
    "# ==============================\n",
    "joblib.dump(grid_log.best_estimator_, \"modelo_logistica_breast_cancer.pkl\")\n",
    "joblib.dump(grid_tree.best_estimator_, \"modelo_arbol_breast_cancer.pkl\")\n",
    "print(\"Modelos guardados para repositorio.\")\n"
   ]
  },
  {
   "cell_type": "code",
   "execution_count": 18,
   "id": "909c7024-ded1-4394-9148-ed41b6d5cac7",
   "metadata": {},
   "outputs": [
    {
     "data": {
      "text/plain": [
       "'\\n- La regresión logística optimizada captura muy bien la relación lineal entre variables y diagnóstico.\\n- El árbol de decisión permite identificar reglas y relaciones no lineales, con alta exactitud en test.\\n- La comparación de matrices de confusión muestra que ambos modelos tienen buena sensibilidad y especificidad.\\n- Los modelos se pueden usar en producción y están listos para compartir en un repositorio.\\n'"
      ]
     },
     "execution_count": 18,
     "metadata": {},
     "output_type": "execute_result"
    }
   ],
   "source": [
    "# ==============================\n",
    "# Interpretación de resultados\n",
    "# ==============================\n",
    "\"\"\"\n",
    "- La regresión logística optimizada captura muy bien la relación lineal entre variables y diagnóstico.\n",
    "- El árbol de decisión permite identificar reglas y relaciones no lineales, con alta exactitud en test.\n",
    "- La comparación de matrices de confusión muestra que ambos modelos tienen buena sensibilidad y especificidad.\n",
    "- Los modelos se pueden usar en producción y están listos para compartir en un repositorio.\n",
    "\"\"\"\n"
   ]
  },
  {
   "cell_type": "code",
   "execution_count": null,
   "id": "29c68493-870f-4952-8f55-fe2da47d7db3",
   "metadata": {},
   "outputs": [],
   "source": []
  }
 ],
 "metadata": {
  "kernelspec": {
   "display_name": "Python 3 (ipykernel)",
   "language": "python",
   "name": "python3"
  },
  "language_info": {
   "codemirror_mode": {
    "name": "ipython",
    "version": 3
   },
   "file_extension": ".py",
   "mimetype": "text/x-python",
   "name": "python",
   "nbconvert_exporter": "python",
   "pygments_lexer": "ipython3",
   "version": "3.12.9"
  }
 },
 "nbformat": 4,
 "nbformat_minor": 5
}
